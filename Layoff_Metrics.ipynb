{
  "cells": [
    {
      "cell_type": "markdown",
      "metadata": {
        "id": "view-in-github",
        "colab_type": "text"
      },
      "source": [
        "<a href=\"https://colab.research.google.com/github/jasvithaBuggana/From-Data-to-Decisions-Understanding-Layoff-Patterns/blob/main/Layoff_Metrics.ipynb\" target=\"_parent\"><img src=\"https://colab.research.google.com/assets/colab-badge.svg\" alt=\"Open In Colab\"/></a>"
      ]
    },
    {
      "cell_type": "code",
      "execution_count": null,
      "metadata": {
        "colab": {
          "base_uri": "https://localhost:8080/"
        },
        "id": "ZdkUPvYE6xx1",
        "outputId": "f25bc24b-0b19-45e7-a53f-f995687279ce"
      },
      "outputs": [
        {
          "output_type": "stream",
          "name": "stdout",
          "text": [
            "Missing values proportion:\n",
            " company                0.000000\n",
            "location               0.000271\n",
            "industry               0.000271\n",
            "total_laid_off         0.343894\n",
            "percentage_laid_off    0.357433\n",
            "date                   0.000000\n",
            "stage                  0.001895\n",
            "country                0.000000\n",
            "funds_raised           0.107230\n",
            "dtype: float64\n"
          ]
        },
        {
          "output_type": "execute_result",
          "data": {
            "text/plain": [
              "(3693, 9)"
            ]
          },
          "metadata": {},
          "execution_count": 43
        }
      ],
      "source": [
        "import pandas as pd\n",
        "import numpy as np\n",
        "from sklearn.model_selection import train_test_split, GridSearchCV\n",
        "from sklearn.preprocessing import StandardScaler, OneHotEncoder\n",
        "from sklearn.impute import SimpleImputer\n",
        "from sklearn.compose import ColumnTransformer\n",
        "from sklearn.pipeline import Pipeline\n",
        "from sklearn.metrics import mean_absolute_error, mean_squared_error, r2_score\n",
        "from sklearn.ensemble import GradientBoostingRegressor, RandomForestRegressor\n",
        "from xgboost import XGBRegressor\n",
        "from lightgbm import LGBMRegressor\n",
        "\n",
        "\n",
        "# Load your dataset\n",
        "file_path = r'/content/layoffs.csv'\n",
        "data = pd.read_csv(file_path)\n",
        "\n",
        "# Display the proportion of missing values in each column\n",
        "missing_values = data.isnull().mean()\n",
        "print(\"Missing values proportion:\\n\", missing_values)\n",
        "data.shape"
      ]
    },
    {
      "cell_type": "code",
      "execution_count": null,
      "metadata": {
        "colab": {
          "base_uri": "https://localhost:8080/"
        },
        "id": "u6Wc_Vjj6xx3",
        "outputId": "bef4660f-4065-4130-885d-159f749ad38d"
      },
      "outputs": [
        {
          "output_type": "stream",
          "name": "stdout",
          "text": [
            "<class 'pandas.core.frame.DataFrame'>\n",
            "RangeIndex: 3693 entries, 0 to 3692\n",
            "Data columns (total 9 columns):\n",
            " #   Column               Non-Null Count  Dtype  \n",
            "---  ------               --------------  -----  \n",
            " 0   company              3693 non-null   object \n",
            " 1   location             3692 non-null   object \n",
            " 2   industry             3692 non-null   object \n",
            " 3   total_laid_off       2423 non-null   float64\n",
            " 4   percentage_laid_off  2373 non-null   float64\n",
            " 5   date                 3693 non-null   object \n",
            " 6   stage                3686 non-null   object \n",
            " 7   country              3693 non-null   object \n",
            " 8   funds_raised         3297 non-null   float64\n",
            "dtypes: float64(3), object(6)\n",
            "memory usage: 259.8+ KB\n"
          ]
        }
      ],
      "source": [
        "data.info()"
      ]
    },
    {
      "cell_type": "code",
      "execution_count": null,
      "metadata": {
        "colab": {
          "base_uri": "https://localhost:8080/",
          "height": 206
        },
        "id": "3nV_gNWO6xx3",
        "outputId": "a32e9b62-a9e5-4b6f-b191-a2070eb5e6ee"
      },
      "outputs": [
        {
          "output_type": "execute_result",
          "data": {
            "text/plain": [
              "      company   location   industry  total_laid_off  percentage_laid_off  \\\n",
              "0         UKG     Boston         HR          2200.0                 0.14   \n",
              "1    OpenText   Waterloo       Data          1200.0                 0.02   \n",
              "2   Unacademy  Bengaluru  Education           250.0                  NaN   \n",
              "3         Koo  Bengaluru   Consumer             NaN                 1.00   \n",
              "4  Lightricks  Jerusalem   Consumer            70.0                 0.12   \n",
              "\n",
              "         date     stage        country  funds_raised  \n",
              "0  2024-07-03   Unknown  United States           NaN  \n",
              "1  2024-07-03  Post-IPO         Canada        1100.0  \n",
              "2  2024-07-02  Series H          India         838.0  \n",
              "3  2024-07-02   Unknown          India          51.0  \n",
              "4  2024-07-01  Series D         Israel         335.0  "
            ],
            "text/html": [
              "\n",
              "  <div id=\"df-1105f4b9-acdc-445a-982f-485a8c687d2e\" class=\"colab-df-container\">\n",
              "    <div>\n",
              "<style scoped>\n",
              "    .dataframe tbody tr th:only-of-type {\n",
              "        vertical-align: middle;\n",
              "    }\n",
              "\n",
              "    .dataframe tbody tr th {\n",
              "        vertical-align: top;\n",
              "    }\n",
              "\n",
              "    .dataframe thead th {\n",
              "        text-align: right;\n",
              "    }\n",
              "</style>\n",
              "<table border=\"1\" class=\"dataframe\">\n",
              "  <thead>\n",
              "    <tr style=\"text-align: right;\">\n",
              "      <th></th>\n",
              "      <th>company</th>\n",
              "      <th>location</th>\n",
              "      <th>industry</th>\n",
              "      <th>total_laid_off</th>\n",
              "      <th>percentage_laid_off</th>\n",
              "      <th>date</th>\n",
              "      <th>stage</th>\n",
              "      <th>country</th>\n",
              "      <th>funds_raised</th>\n",
              "    </tr>\n",
              "  </thead>\n",
              "  <tbody>\n",
              "    <tr>\n",
              "      <th>0</th>\n",
              "      <td>UKG</td>\n",
              "      <td>Boston</td>\n",
              "      <td>HR</td>\n",
              "      <td>2200.0</td>\n",
              "      <td>0.14</td>\n",
              "      <td>2024-07-03</td>\n",
              "      <td>Unknown</td>\n",
              "      <td>United States</td>\n",
              "      <td>NaN</td>\n",
              "    </tr>\n",
              "    <tr>\n",
              "      <th>1</th>\n",
              "      <td>OpenText</td>\n",
              "      <td>Waterloo</td>\n",
              "      <td>Data</td>\n",
              "      <td>1200.0</td>\n",
              "      <td>0.02</td>\n",
              "      <td>2024-07-03</td>\n",
              "      <td>Post-IPO</td>\n",
              "      <td>Canada</td>\n",
              "      <td>1100.0</td>\n",
              "    </tr>\n",
              "    <tr>\n",
              "      <th>2</th>\n",
              "      <td>Unacademy</td>\n",
              "      <td>Bengaluru</td>\n",
              "      <td>Education</td>\n",
              "      <td>250.0</td>\n",
              "      <td>NaN</td>\n",
              "      <td>2024-07-02</td>\n",
              "      <td>Series H</td>\n",
              "      <td>India</td>\n",
              "      <td>838.0</td>\n",
              "    </tr>\n",
              "    <tr>\n",
              "      <th>3</th>\n",
              "      <td>Koo</td>\n",
              "      <td>Bengaluru</td>\n",
              "      <td>Consumer</td>\n",
              "      <td>NaN</td>\n",
              "      <td>1.00</td>\n",
              "      <td>2024-07-02</td>\n",
              "      <td>Unknown</td>\n",
              "      <td>India</td>\n",
              "      <td>51.0</td>\n",
              "    </tr>\n",
              "    <tr>\n",
              "      <th>4</th>\n",
              "      <td>Lightricks</td>\n",
              "      <td>Jerusalem</td>\n",
              "      <td>Consumer</td>\n",
              "      <td>70.0</td>\n",
              "      <td>0.12</td>\n",
              "      <td>2024-07-01</td>\n",
              "      <td>Series D</td>\n",
              "      <td>Israel</td>\n",
              "      <td>335.0</td>\n",
              "    </tr>\n",
              "  </tbody>\n",
              "</table>\n",
              "</div>\n",
              "    <div class=\"colab-df-buttons\">\n",
              "\n",
              "  <div class=\"colab-df-container\">\n",
              "    <button class=\"colab-df-convert\" onclick=\"convertToInteractive('df-1105f4b9-acdc-445a-982f-485a8c687d2e')\"\n",
              "            title=\"Convert this dataframe to an interactive table.\"\n",
              "            style=\"display:none;\">\n",
              "\n",
              "  <svg xmlns=\"http://www.w3.org/2000/svg\" height=\"24px\" viewBox=\"0 -960 960 960\">\n",
              "    <path d=\"M120-120v-720h720v720H120Zm60-500h600v-160H180v160Zm220 220h160v-160H400v160Zm0 220h160v-160H400v160ZM180-400h160v-160H180v160Zm440 0h160v-160H620v160ZM180-180h160v-160H180v160Zm440 0h160v-160H620v160Z\"/>\n",
              "  </svg>\n",
              "    </button>\n",
              "\n",
              "  <style>\n",
              "    .colab-df-container {\n",
              "      display:flex;\n",
              "      gap: 12px;\n",
              "    }\n",
              "\n",
              "    .colab-df-convert {\n",
              "      background-color: #E8F0FE;\n",
              "      border: none;\n",
              "      border-radius: 50%;\n",
              "      cursor: pointer;\n",
              "      display: none;\n",
              "      fill: #1967D2;\n",
              "      height: 32px;\n",
              "      padding: 0 0 0 0;\n",
              "      width: 32px;\n",
              "    }\n",
              "\n",
              "    .colab-df-convert:hover {\n",
              "      background-color: #E2EBFA;\n",
              "      box-shadow: 0px 1px 2px rgba(60, 64, 67, 0.3), 0px 1px 3px 1px rgba(60, 64, 67, 0.15);\n",
              "      fill: #174EA6;\n",
              "    }\n",
              "\n",
              "    .colab-df-buttons div {\n",
              "      margin-bottom: 4px;\n",
              "    }\n",
              "\n",
              "    [theme=dark] .colab-df-convert {\n",
              "      background-color: #3B4455;\n",
              "      fill: #D2E3FC;\n",
              "    }\n",
              "\n",
              "    [theme=dark] .colab-df-convert:hover {\n",
              "      background-color: #434B5C;\n",
              "      box-shadow: 0px 1px 3px 1px rgba(0, 0, 0, 0.15);\n",
              "      filter: drop-shadow(0px 1px 2px rgba(0, 0, 0, 0.3));\n",
              "      fill: #FFFFFF;\n",
              "    }\n",
              "  </style>\n",
              "\n",
              "    <script>\n",
              "      const buttonEl =\n",
              "        document.querySelector('#df-1105f4b9-acdc-445a-982f-485a8c687d2e button.colab-df-convert');\n",
              "      buttonEl.style.display =\n",
              "        google.colab.kernel.accessAllowed ? 'block' : 'none';\n",
              "\n",
              "      async function convertToInteractive(key) {\n",
              "        const element = document.querySelector('#df-1105f4b9-acdc-445a-982f-485a8c687d2e');\n",
              "        const dataTable =\n",
              "          await google.colab.kernel.invokeFunction('convertToInteractive',\n",
              "                                                    [key], {});\n",
              "        if (!dataTable) return;\n",
              "\n",
              "        const docLinkHtml = 'Like what you see? Visit the ' +\n",
              "          '<a target=\"_blank\" href=https://colab.research.google.com/notebooks/data_table.ipynb>data table notebook</a>'\n",
              "          + ' to learn more about interactive tables.';\n",
              "        element.innerHTML = '';\n",
              "        dataTable['output_type'] = 'display_data';\n",
              "        await google.colab.output.renderOutput(dataTable, element);\n",
              "        const docLink = document.createElement('div');\n",
              "        docLink.innerHTML = docLinkHtml;\n",
              "        element.appendChild(docLink);\n",
              "      }\n",
              "    </script>\n",
              "  </div>\n",
              "\n",
              "\n",
              "<div id=\"df-7052f7f9-c889-499b-977c-7f89a11edc92\">\n",
              "  <button class=\"colab-df-quickchart\" onclick=\"quickchart('df-7052f7f9-c889-499b-977c-7f89a11edc92')\"\n",
              "            title=\"Suggest charts\"\n",
              "            style=\"display:none;\">\n",
              "\n",
              "<svg xmlns=\"http://www.w3.org/2000/svg\" height=\"24px\"viewBox=\"0 0 24 24\"\n",
              "     width=\"24px\">\n",
              "    <g>\n",
              "        <path d=\"M19 3H5c-1.1 0-2 .9-2 2v14c0 1.1.9 2 2 2h14c1.1 0 2-.9 2-2V5c0-1.1-.9-2-2-2zM9 17H7v-7h2v7zm4 0h-2V7h2v10zm4 0h-2v-4h2v4z\"/>\n",
              "    </g>\n",
              "</svg>\n",
              "  </button>\n",
              "\n",
              "<style>\n",
              "  .colab-df-quickchart {\n",
              "      --bg-color: #E8F0FE;\n",
              "      --fill-color: #1967D2;\n",
              "      --hover-bg-color: #E2EBFA;\n",
              "      --hover-fill-color: #174EA6;\n",
              "      --disabled-fill-color: #AAA;\n",
              "      --disabled-bg-color: #DDD;\n",
              "  }\n",
              "\n",
              "  [theme=dark] .colab-df-quickchart {\n",
              "      --bg-color: #3B4455;\n",
              "      --fill-color: #D2E3FC;\n",
              "      --hover-bg-color: #434B5C;\n",
              "      --hover-fill-color: #FFFFFF;\n",
              "      --disabled-bg-color: #3B4455;\n",
              "      --disabled-fill-color: #666;\n",
              "  }\n",
              "\n",
              "  .colab-df-quickchart {\n",
              "    background-color: var(--bg-color);\n",
              "    border: none;\n",
              "    border-radius: 50%;\n",
              "    cursor: pointer;\n",
              "    display: none;\n",
              "    fill: var(--fill-color);\n",
              "    height: 32px;\n",
              "    padding: 0;\n",
              "    width: 32px;\n",
              "  }\n",
              "\n",
              "  .colab-df-quickchart:hover {\n",
              "    background-color: var(--hover-bg-color);\n",
              "    box-shadow: 0 1px 2px rgba(60, 64, 67, 0.3), 0 1px 3px 1px rgba(60, 64, 67, 0.15);\n",
              "    fill: var(--button-hover-fill-color);\n",
              "  }\n",
              "\n",
              "  .colab-df-quickchart-complete:disabled,\n",
              "  .colab-df-quickchart-complete:disabled:hover {\n",
              "    background-color: var(--disabled-bg-color);\n",
              "    fill: var(--disabled-fill-color);\n",
              "    box-shadow: none;\n",
              "  }\n",
              "\n",
              "  .colab-df-spinner {\n",
              "    border: 2px solid var(--fill-color);\n",
              "    border-color: transparent;\n",
              "    border-bottom-color: var(--fill-color);\n",
              "    animation:\n",
              "      spin 1s steps(1) infinite;\n",
              "  }\n",
              "\n",
              "  @keyframes spin {\n",
              "    0% {\n",
              "      border-color: transparent;\n",
              "      border-bottom-color: var(--fill-color);\n",
              "      border-left-color: var(--fill-color);\n",
              "    }\n",
              "    20% {\n",
              "      border-color: transparent;\n",
              "      border-left-color: var(--fill-color);\n",
              "      border-top-color: var(--fill-color);\n",
              "    }\n",
              "    30% {\n",
              "      border-color: transparent;\n",
              "      border-left-color: var(--fill-color);\n",
              "      border-top-color: var(--fill-color);\n",
              "      border-right-color: var(--fill-color);\n",
              "    }\n",
              "    40% {\n",
              "      border-color: transparent;\n",
              "      border-right-color: var(--fill-color);\n",
              "      border-top-color: var(--fill-color);\n",
              "    }\n",
              "    60% {\n",
              "      border-color: transparent;\n",
              "      border-right-color: var(--fill-color);\n",
              "    }\n",
              "    80% {\n",
              "      border-color: transparent;\n",
              "      border-right-color: var(--fill-color);\n",
              "      border-bottom-color: var(--fill-color);\n",
              "    }\n",
              "    90% {\n",
              "      border-color: transparent;\n",
              "      border-bottom-color: var(--fill-color);\n",
              "    }\n",
              "  }\n",
              "</style>\n",
              "\n",
              "  <script>\n",
              "    async function quickchart(key) {\n",
              "      const quickchartButtonEl =\n",
              "        document.querySelector('#' + key + ' button');\n",
              "      quickchartButtonEl.disabled = true;  // To prevent multiple clicks.\n",
              "      quickchartButtonEl.classList.add('colab-df-spinner');\n",
              "      try {\n",
              "        const charts = await google.colab.kernel.invokeFunction(\n",
              "            'suggestCharts', [key], {});\n",
              "      } catch (error) {\n",
              "        console.error('Error during call to suggestCharts:', error);\n",
              "      }\n",
              "      quickchartButtonEl.classList.remove('colab-df-spinner');\n",
              "      quickchartButtonEl.classList.add('colab-df-quickchart-complete');\n",
              "    }\n",
              "    (() => {\n",
              "      let quickchartButtonEl =\n",
              "        document.querySelector('#df-7052f7f9-c889-499b-977c-7f89a11edc92 button');\n",
              "      quickchartButtonEl.style.display =\n",
              "        google.colab.kernel.accessAllowed ? 'block' : 'none';\n",
              "    })();\n",
              "  </script>\n",
              "</div>\n",
              "\n",
              "    </div>\n",
              "  </div>\n"
            ],
            "application/vnd.google.colaboratory.intrinsic+json": {
              "type": "dataframe",
              "variable_name": "data",
              "summary": "{\n  \"name\": \"data\",\n  \"rows\": 3693,\n  \"fields\": [\n    {\n      \"column\": \"company\",\n      \"properties\": {\n        \"dtype\": \"string\",\n        \"num_unique_values\": 2623,\n        \"samples\": [\n          \"Zume\",\n          \"Nomad\",\n          \"Bukalapak\"\n        ],\n        \"semantic_type\": \"\",\n        \"description\": \"\"\n      }\n    },\n    {\n      \"column\": \"location\",\n      \"properties\": {\n        \"dtype\": \"category\",\n        \"num_unique_values\": 239,\n        \"samples\": [\n          \"Oslo\",\n          \"Stockholm\",\n          \"Nashville\"\n        ],\n        \"semantic_type\": \"\",\n        \"description\": \"\"\n      }\n    },\n    {\n      \"column\": \"industry\",\n      \"properties\": {\n        \"dtype\": \"category\",\n        \"num_unique_values\": 31,\n        \"samples\": [\n          \"Security\",\n          \"Retail\",\n          \"Support\"\n        ],\n        \"semantic_type\": \"\",\n        \"description\": \"\"\n      }\n    },\n    {\n      \"column\": \"total_laid_off\",\n      \"properties\": {\n        \"dtype\": \"number\",\n        \"std\": 828.069040865127,\n        \"min\": 3.0,\n        \"max\": 14000.0,\n        \"num_unique_values\": 345,\n        \"samples\": [\n          716.0,\n          82.0,\n          69.0\n        ],\n        \"semantic_type\": \"\",\n        \"description\": \"\"\n      }\n    },\n    {\n      \"column\": \"percentage_laid_off\",\n      \"properties\": {\n        \"dtype\": \"number\",\n        \"std\": 0.28886310441546736,\n        \"min\": 0.0,\n        \"max\": 1.0,\n        \"num_unique_values\": 78,\n        \"samples\": [\n          0.24,\n          0.14,\n          0.6\n        ],\n        \"semantic_type\": \"\",\n        \"description\": \"\"\n      }\n    },\n    {\n      \"column\": \"date\",\n      \"properties\": {\n        \"dtype\": \"object\",\n        \"num_unique_values\": 847,\n        \"samples\": [\n          \"2022-11-11\",\n          \"2023-03-30\",\n          \"2023-06-14\"\n        ],\n        \"semantic_type\": \"\",\n        \"description\": \"\"\n      }\n    },\n    {\n      \"column\": \"stage\",\n      \"properties\": {\n        \"dtype\": \"category\",\n        \"num_unique_values\": 16,\n        \"samples\": [\n          \"Unknown\",\n          \"Post-IPO\",\n          \"Acquired\"\n        ],\n        \"semantic_type\": \"\",\n        \"description\": \"\"\n      }\n    },\n    {\n      \"column\": \"country\",\n      \"properties\": {\n        \"dtype\": \"category\",\n        \"num_unique_values\": 63,\n        \"samples\": [\n          \"South Africa\",\n          \"Bahrain\",\n          \"United States\"\n        ],\n        \"semantic_type\": \"\",\n        \"description\": \"\"\n      }\n    },\n    {\n      \"column\": \"funds_raised\",\n      \"properties\": {\n        \"dtype\": \"number\",\n        \"std\": 4729.482858508808,\n        \"min\": 0.0,\n        \"max\": 121900.0,\n        \"num_unique_values\": 736,\n        \"samples\": [\n          3.8,\n          543.0,\n          602.0\n        ],\n        \"semantic_type\": \"\",\n        \"description\": \"\"\n      }\n    }\n  ]\n}"
            }
          },
          "metadata": {},
          "execution_count": 45
        }
      ],
      "source": [
        "data.head()"
      ]
    },
    {
      "cell_type": "markdown",
      "source": [
        "Data Pre-processing\n",
        "1. Extract day, month, and year into separate columns"
      ],
      "metadata": {
        "id": "4x6-1OL87Mm9"
      }
    },
    {
      "cell_type": "code",
      "execution_count": null,
      "metadata": {
        "colab": {
          "base_uri": "https://localhost:8080/"
        },
        "id": "FR59fwpA6xx3",
        "outputId": "0c547697-86ba-4e6e-acf3-31e63fd174da"
      },
      "outputs": [
        {
          "output_type": "stream",
          "name": "stdout",
          "text": [
            "            company        location        industry  total_laid_off  \\\n",
            "0               UKG          Boston              HR          2200.0   \n",
            "1          OpenText        Waterloo            Data          1200.0   \n",
            "2         Unacademy       Bengaluru       Education           250.0   \n",
            "3               Koo       Bengaluru        Consumer             NaN   \n",
            "4        Lightricks       Jerusalem        Consumer            70.0   \n",
            "...             ...             ...             ...             ...   \n",
            "3688        Service     Los Angeles          Travel             NaN   \n",
            "3689   HopSkipDrive     Los Angeles  Transportation             8.0   \n",
            "3690    Panda Squad     SF Bay Area        Consumer             6.0   \n",
            "3691  Tamara Mellon     Los Angeles          Retail            20.0   \n",
            "3692       EasyPost  Salt Lake City       Logistics            75.0   \n",
            "\n",
            "      percentage_laid_off     stage        country  funds_raised  day  month  \\\n",
            "0                    0.14   Unknown  United States           NaN    3      7   \n",
            "1                    0.02  Post-IPO         Canada        1100.0    3      7   \n",
            "2                     NaN  Series H          India         838.0    2      7   \n",
            "3                    1.00   Unknown          India          51.0    2      7   \n",
            "4                    0.12  Series D         Israel         335.0    1      7   \n",
            "...                   ...       ...            ...           ...  ...    ...   \n",
            "3688                 1.00      Seed  United States           5.1   16      3   \n",
            "3689                 0.10   Unknown  United States          45.0   13      3   \n",
            "3690                 0.75      Seed  United States           1.0   13      3   \n",
            "3691                 0.40  Series C  United States          90.0   12      3   \n",
            "3692                  NaN  Series A  United States          12.0   11      3   \n",
            "\n",
            "      year  \n",
            "0     2024  \n",
            "1     2024  \n",
            "2     2024  \n",
            "3     2024  \n",
            "4     2024  \n",
            "...    ...  \n",
            "3688  2020  \n",
            "3689  2020  \n",
            "3690  2020  \n",
            "3691  2020  \n",
            "3692  2020  \n",
            "\n",
            "[3693 rows x 11 columns]\n"
          ]
        }
      ],
      "source": [
        "import pandas as pd\n",
        "\n",
        "# Convert the 'date' column to datetime\n",
        "data['date'] = pd.to_datetime(data['date'])\n",
        "\n",
        "# Extract day, month, and year into separate columns\n",
        "data['day'] = data['date'].dt.day\n",
        "data['month'] = data['date'].dt.month\n",
        "data['year'] = data['date'].dt.year\n",
        "\n",
        "# Drop the original 'date' column\n",
        "data.drop(columns=['date'], inplace=True)\n",
        "\n",
        "# Display the updated DataFrame\n",
        "print(data)\n"
      ]
    },
    {
      "cell_type": "code",
      "execution_count": null,
      "metadata": {
        "colab": {
          "base_uri": "https://localhost:8080/"
        },
        "id": "mvF_fkmm6xx4",
        "outputId": "9cbfc08c-85a7-4bb9-b64f-626ce5874300"
      },
      "outputs": [
        {
          "output_type": "stream",
          "name": "stdout",
          "text": [
            "<class 'pandas.core.frame.DataFrame'>\n",
            "RangeIndex: 3693 entries, 0 to 3692\n",
            "Data columns (total 11 columns):\n",
            " #   Column               Non-Null Count  Dtype  \n",
            "---  ------               --------------  -----  \n",
            " 0   company              3693 non-null   object \n",
            " 1   location             3692 non-null   object \n",
            " 2   industry             3692 non-null   object \n",
            " 3   total_laid_off       2423 non-null   float64\n",
            " 4   percentage_laid_off  2373 non-null   float64\n",
            " 5   stage                3686 non-null   object \n",
            " 6   country              3693 non-null   object \n",
            " 7   funds_raised         3297 non-null   float64\n",
            " 8   day                  3693 non-null   int32  \n",
            " 9   month                3693 non-null   int32  \n",
            " 10  year                 3693 non-null   int32  \n",
            "dtypes: float64(3), int32(3), object(5)\n",
            "memory usage: 274.2+ KB\n"
          ]
        }
      ],
      "source": [
        "data.info()"
      ]
    },
    {
      "cell_type": "markdown",
      "source": [
        "2. Drop the missing rows from the target variable (total_laid_off)"
      ],
      "metadata": {
        "id": "UHS585oA7va2"
      }
    },
    {
      "cell_type": "code",
      "source": [
        "\n",
        "# Group the data by year and sum the total layoffs for each year\n",
        "annual_layoffs = data.groupby('year')['total_laid_off'].sum().reset_index()\n",
        "\n",
        "# Print the total layoffs for each year\n",
        "print(annual_layoffs)\n"
      ],
      "metadata": {
        "colab": {
          "base_uri": "https://localhost:8080/"
        },
        "id": "EFNXsAtDmljY",
        "outputId": "30fb4568-6953-47a7-aa70-67adeb6a0fa5"
      },
      "execution_count": null,
      "outputs": [
        {
          "output_type": "stream",
          "name": "stdout",
          "text": [
            "   year  total_laid_off\n",
            "0  2020         80998.0\n",
            "1  2021         15823.0\n",
            "2  2022        165269.0\n",
            "3  2023        263180.0\n",
            "4  2024        104410.0\n"
          ]
        }
      ]
    },
    {
      "cell_type": "code",
      "execution_count": null,
      "metadata": {
        "id": "d50Tn4Fu6xx4"
      },
      "outputs": [],
      "source": [
        "# Remove rows with any missing values from the target variable\n",
        "data_cleaned = data.dropna(subset = ['total_laid_off'])\n"
      ]
    },
    {
      "cell_type": "code",
      "execution_count": null,
      "metadata": {
        "colab": {
          "base_uri": "https://localhost:8080/"
        },
        "id": "TfUpADXl6xx4",
        "outputId": "10af5b37-d814-4013-8270-e170eb35a50f"
      },
      "outputs": [
        {
          "output_type": "stream",
          "name": "stdout",
          "text": [
            "<class 'pandas.core.frame.DataFrame'>\n",
            "Index: 2423 entries, 0 to 3692\n",
            "Data columns (total 11 columns):\n",
            " #   Column               Non-Null Count  Dtype  \n",
            "---  ------               --------------  -----  \n",
            " 0   company              2423 non-null   object \n",
            " 1   location             2423 non-null   object \n",
            " 2   industry             2422 non-null   object \n",
            " 3   total_laid_off       2423 non-null   float64\n",
            " 4   percentage_laid_off  1709 non-null   float64\n",
            " 5   stage                2420 non-null   object \n",
            " 6   country              2423 non-null   object \n",
            " 7   funds_raised         2187 non-null   float64\n",
            " 8   day                  2423 non-null   int32  \n",
            " 9   month                2423 non-null   int32  \n",
            " 10  year                 2423 non-null   int32  \n",
            "dtypes: float64(3), int32(3), object(5)\n",
            "memory usage: 198.8+ KB\n"
          ]
        }
      ],
      "source": [
        "data_cleaned.info()"
      ]
    },
    {
      "cell_type": "code",
      "source": [
        "import matplotlib.pyplot as plt\n",
        "\n",
        "# Group the data by year and sum the total layoffs for each year\n",
        "annual_layoffs = data_cleaned.groupby('year')['total_laid_off'].sum().reset_index()\n",
        "\n",
        "# Create a line plot\n",
        "plt.figure(figsize=(10, 6))\n",
        "plt.plot(annual_layoffs['year'], annual_layoffs['total_laid_off'], marker='o', linestyle='-', color='b')\n",
        "\n",
        "# Add titles and labels\n",
        "plt.title('Total Number of Layoffs per Year')\n",
        "plt.xlabel('Year')\n",
        "plt.ylabel('Total Layoffs')\n",
        "plt.xticks(annual_layoffs['year'])  # Set x-ticks to be the years only\n",
        "plt.grid(True)\n",
        "\n",
        "# Show the plot\n",
        "plt.show()\n"
      ],
      "metadata": {
        "colab": {
          "base_uri": "https://localhost:8080/",
          "height": 564
        },
        "id": "dU3Yu4Y5mH7t",
        "outputId": "18387e5e-0e26-4702-a421-e5c9edb712e2"
      },
      "execution_count": null,
      "outputs": [
        {
          "output_type": "display_data",
          "data": {
            "text/plain": [
              "<Figure size 1000x600 with 1 Axes>"
            ],
            "image/png": "[encoded data removed]"
          },
          "metadata": {}
        }
      ]
    },
    {
      "cell_type": "code",
      "source": [
        "import numpy as np\n",
        "from sklearn.ensemble import GradientBoostingRegressor, RandomForestRegressor\n",
        "from xgboost import XGBRegressor\n",
        "from lightgbm import LGBMRegressor\n",
        "from sklearn.metrics import mean_absolute_error, mean_squared_error, r2_score\n",
        "from sklearn.pipeline import Pipeline\n",
        "from sklearn.model_selection import train_test_split, GridSearchCV\n",
        "from sklearn.compose import ColumnTransformer\n",
        "from sklearn.impute import SimpleImputer\n",
        "from sklearn.preprocessing import OneHotEncoder\n",
        "\n",
        "# Define transformers for numeric and categorical features\n",
        "numeric_features = ['percentage_laid_off', 'funds_raised', 'day', 'month', 'year']\n",
        "numeric_transformer = Pipeline(steps=[\n",
        "    ('imputer', SimpleImputer(strategy='mean'))\n",
        "])\n",
        "\n",
        "categorical_features = ['company', 'location', 'industry', 'stage', 'country']\n",
        "categorical_transformer = Pipeline(steps=[\n",
        "    ('imputer', SimpleImputer(strategy='constant', fill_value='missing')),\n",
        "    ('onehot', OneHotEncoder(handle_unknown='ignore'))\n",
        "])\n",
        "\n",
        "# Create a preprocessor\n",
        "preprocessor = ColumnTransformer(\n",
        "    transformers=[\n",
        "        ('num', numeric_transformer, numeric_features),\n",
        "        ('cat', categorical_transformer, categorical_features)\n",
        "    ])\n",
        "\n",
        "# Split the data into features and target\n",
        "X = data_cleaned.drop(columns=['total_laid_off'])\n",
        "y = data_cleaned['total_laid_off']\n",
        "\n",
        "# Split the data into training and testing sets\n",
        "X_train, X_test, y_train, y_test = train_test_split(X, y, test_size=0.2, random_state=42)\n",
        "\n",
        "# Define models\n",
        "models = {\n",
        "    'Random Forest': RandomForestRegressor(random_state=42),\n",
        "    'Gradient Boosting': GradientBoostingRegressor(random_state=42),\n",
        "    'XGBoost': XGBRegressor(random_state=42),\n",
        "    'LightGBM': LGBMRegressor(random_state=42)\n",
        "}\n",
        "\n",
        "# Define parameter grids for hyperparameter tuning\n",
        "param_grids = {\n",
        "    'Random Forest': {\n",
        "        'model__n_estimators': [100, 200],\n",
        "        'model__max_depth': [None, 10, 20],\n",
        "        'model__min_samples_split': [2, 5]\n",
        "    },\n",
        "    'Gradient Boosting': {\n",
        "        'model__n_estimators': [100, 200],\n",
        "        'model__learning_rate': [0.01, 0.1, 0.2],\n",
        "        'model__max_depth': [3, 5, 7]\n",
        "    },\n",
        "    'XGBoost': {\n",
        "        'model__n_estimators': [100, 200],\n",
        "        'model__learning_rate': [0.01, 0.1, 0.2],\n",
        "        'model__max_depth': [3, 5, 7]\n",
        "    },\n",
        "    'LightGBM': {\n",
        "        'model__n_estimators': [100, 200],\n",
        "        'model__learning_rate': [0.01, 0.1, 0.2],\n",
        "        'model__num_leaves': [31, 50, 100]\n",
        "    }\n",
        "}\n",
        "\n",
        "# Evaluate and tune models\n",
        "for model_name, model in models.items():\n",
        "    pipeline = Pipeline(steps=[\n",
        "        ('preprocessor', preprocessor),\n",
        "        ('model', model)\n",
        "    ])\n",
        "\n",
        "    param_grid = param_grids[model_name]\n",
        "\n",
        "    # Perform GridSearchCV\n",
        "    grid_search = GridSearchCV(pipeline, param_grid, cv=3, n_jobs=-1, scoring='neg_mean_absolute_error')\n",
        "    grid_search.fit(X_train, y_train)\n",
        "\n",
        "    # Best model from GridSearch\n",
        "    best_model = grid_search.best_estimator_\n",
        "\n",
        "    # Predict and evaluate\n",
        "    y_pred = best_model.predict(X_test)\n",
        "    mae = mean_absolute_error(y_test, y_pred)\n",
        "    rmse = np.sqrt(mean_squared_error(y_test, y_pred))\n",
        "    r2 = r2_score(y_test, y_pred)\n",
        "\n",
        "    print(f'{model_name} Best Parameters: {grid_search.best_params_}')\n",
        "    print(f'{model_name} Metrics:')\n",
        "    print(f'  MAE: {mae}')\n",
        "    print(f'  RMSE: {rmse}')\n",
        "    print(f'  R^2: {r2}')\n",
        "    print()\n"
      ],
      "metadata": {
        "id": "s57W8iFB1Uwq",
        "colab": {
          "base_uri": "https://localhost:8080/"
        },
        "outputId": "2c7be96a-ca74-400e-fd2a-609bec662e1c"
      },
      "execution_count": null,
      "outputs": [
        {
          "output_type": "stream",
          "name": "stdout",
          "text": [
            "Random Forest Best Parameters: {'model__max_depth': None, 'model__min_samples_split': 2, 'model__n_estimators': 200}\n",
            "Random Forest Metrics:\n",
            "  MAE: 199.20765979381443\n",
            "  RMSE: 553.0055048116703\n",
            "  R^2: -0.40508402839342095\n",
            "\n",
            "Gradient Boosting Best Parameters: {'model__learning_rate': 0.2, 'model__max_depth': 5, 'model__n_estimators': 200}\n",
            "Gradient Boosting Metrics:\n",
            "  MAE: 215.14662818119774\n",
            "  RMSE: 708.0974580660004\n",
            "  R^2: -1.3037187603130191\n",
            "\n",
            "XGBoost Best Parameters: {'model__learning_rate': 0.2, 'model__max_depth': 7, 'model__n_estimators': 200}\n",
            "XGBoost Metrics:\n",
            "  MAE: 219.28884562757827\n",
            "  RMSE: 730.4274507147342\n",
            "  R^2: -1.4513061850240074\n",
            "\n",
            "[LightGBM] [Info] Auto-choosing col-wise multi-threading, the overhead of testing was 0.000241 seconds.\n",
            "You can set `force_col_wise=true` to remove the overhead.\n",
            "[LightGBM] [Info] Total Bins 479\n",
            "[LightGBM] [Info] Number of data points in the train set: 1938, number of used features: 66\n",
            "[LightGBM] [Info] Start training from score 269.752838\n",
            "LightGBM Best Parameters: {'model__learning_rate': 0.01, 'model__n_estimators': 200, 'model__num_leaves': 31}\n",
            "LightGBM Metrics:\n",
            "  MAE: 232.69401946795793\n",
            "  RMSE: 497.37175718985407\n",
            "  R^2: -0.13659470766891646\n",
            "\n"
          ]
        }
      ]
    },
    {
      "cell_type": "code",
      "source": [
        "# Filter data for the year 2024\n",
        "data_2024 = data_cleaned[data_cleaned['year'] == 2024]\n",
        "\n",
        "# Predict the number of layoffs for 2024\n",
        "# We use .loc to handle the case where data_2024 might be empty\n",
        "data_2024['predicted_total_laid_off'] = best_pipeline.predict(data_2024.drop(columns=['total_laid_off']))\n",
        "\n",
        "# Calculate the total number of layoffs predicted for 2024\n",
        "# Use .sum() on the Series, which will return 0 if the Series is empty\n",
        "total_laid_off_2024 = data_2024['predicted_total_laid_off'].sum()\n",
        "\n",
        "# Print the result\n",
        "print(f'Total predicted number of layoffs in 2024: {total_laid_off_2024}')\n"
      ],
      "metadata": {
        "colab": {
          "base_uri": "https://localhost:8080/"
        },
        "id": "0Tgq0fUG7gow",
        "outputId": "7e9f259b-4557-4352-a66e-bc04e26a4e50"
      },
      "execution_count": null,
      "outputs": [
        {
          "output_type": "stream",
          "name": "stdout",
          "text": [
            "Total predicted number of layoffs in 2024: 21821.25\n"
          ]
        },
        {
          "output_type": "stream",
          "name": "stderr",
          "text": [
            "<ipython-input-52-149fa6b78521>:6: SettingWithCopyWarning: \n",
            "A value is trying to be set on a copy of a slice from a DataFrame.\n",
            "Try using .loc[row_indexer,col_indexer] = value instead\n",
            "\n",
            "See the caveats in the documentation: https://pandas.pydata.org/pandas-docs/stable/user_guide/indexing.html#returning-a-view-versus-a-copy\n",
            "  data_2024['predicted_total_laid_off'] = best_pipeline.predict(data_2024.drop(columns=['total_laid_off']))\n"
          ]
        }
      ]
    },
    {
      "cell_type": "code",
      "source": [],
      "metadata": {
        "id": "zXE2Wq9Sl3QK"
      },
      "execution_count": null,
      "outputs": []
    }
  ],
  "metadata": {
    "kernelspec": {
      "display_name": "Python 3 (ipykernel)",
      "language": "python",
      "name": "python3"
    },
    "language_info": {
      "codemirror_mode": {
        "name": "ipython",
        "version": 3
      },
      "file_extension": ".py",
      "mimetype": "text/x-python",
      "name": "python",
      "nbconvert_exporter": "python",
      "pygments_lexer": "ipython3",
      "version": "3.9.13"
    },
    "colab": {
      "provenance": [],
      "include_colab_link": true
    }
  },
  "nbformat": 4,
  "nbformat_minor": 0
}